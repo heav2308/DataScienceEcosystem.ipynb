{
 "cells": [
  {
   "cell_type": "markdown",
   "id": "3fa9d69a-f913-46a0-ac1e-c64aaa81052c",
   "metadata": {},
   "source": [
    "# Data Science Tools and Ecosystem"
   ]
  },
  {
   "cell_type": "markdown",
   "id": "ac5f7f4e-0cb8-471d-833a-d2294a2d026e",
   "metadata": {},
   "source": [
    "## In this notebook, Data Science Tools and Ecosystem are summarized."
   ]
  },
  {
   "cell_type": "markdown",
   "id": "15d2f856-b1aa-4c45-95fc-a79123ce2b95",
   "metadata": {},
   "source": [
    "## Objectives:\n",
    "\n",
    "* List popular languages for Data Science\n",
    "* List popular libraries for Data Science\n",
    "* List popular tools for Data Science\n",
    "* Evaluate arithmetics expressions in Python"
   ]
  },
  {
   "cell_type": "markdown",
   "id": "4ad1e530-a5a9-427f-aefc-e0fa4dbc80f6",
   "metadata": {},
   "source": [
    "### Some of the popular languages that Data Scientists use are:\n",
    "\n",
    "### 1. Python\n",
    "### 2. R\n",
    "### 3. Scala"
   ]
  },
  {
   "cell_type": "markdown",
   "id": "2ae21782-dba4-48ce-8143-1882308ddb44",
   "metadata": {},
   "source": [
    "### Some of the commonly used libraries used by Data Scientists include:\n",
    "\n",
    "### 1. Pandas\n",
    "### 2. Numpy\n",
    "### 3. Scikit-Learn"
   ]
  },
  {
   "cell_type": "markdown",
   "id": "a959e359-9679-4e9e-936c-1d0347b32b85",
   "metadata": {},
   "source": [
    "| Data Science Tools |\n",
    "|:-------------------|\n",
    "|    RStudio         |\n",
    "|    Apache Spark    |\n",
    "|    TensorFlow      |"
   ]
  },
  {
   "cell_type": "markdown",
   "id": "21687181-1697-460b-9cc1-48c4df592aec",
   "metadata": {},
   "source": [
    "### Below are a few examples of evaluating arithmetic expressions in Python"
   ]
  },
  {
   "cell_type": "code",
   "execution_count": 24,
   "id": "9d02e187-95fa-46a0-8eae-a4104e00044f",
   "metadata": {},
   "outputs": [
    {
     "data": {
      "text/plain": [
       "17"
      ]
     },
     "execution_count": 24,
     "metadata": {},
     "output_type": "execute_result"
    }
   ],
   "source": [
    "(3*4)+5 #This a simple arithmetic expression to mutiply then add integers"
   ]
  },
  {
   "cell_type": "code",
   "execution_count": 26,
   "id": "a6aa4bd3-8d7b-449e-9ba0-90684605d7a7",
   "metadata": {},
   "outputs": [
    {
     "data": {
      "text/plain": [
       "3.3333333333333335"
      ]
     },
     "execution_count": 26,
     "metadata": {},
     "output_type": "execute_result"
    }
   ],
   "source": [
    "# This will convert 200 minutes to hours by dividing by 60\n",
    "hours = 200 / 60\n",
    "hours"
   ]
  },
  {
   "cell_type": "markdown",
   "id": "b2ffd6f5-6d87-48f5-a142-ef0c9efbb8df",
   "metadata": {},
   "source": [
    "## Author \n",
    "HUGO ARTEAGA"
   ]
  }
 ],
 "metadata": {
  "kernelspec": {
   "display_name": "Python 3 (ipykernel)",
   "language": "python",
   "name": "python3"
  },
  "language_info": {
   "codemirror_mode": {
    "name": "ipython",
    "version": 3
   },
   "file_extension": ".py",
   "mimetype": "text/x-python",
   "name": "python",
   "nbconvert_exporter": "python",
   "pygments_lexer": "ipython3",
   "version": "3.11.7"
  }
 },
 "nbformat": 4,
 "nbformat_minor": 5
}
